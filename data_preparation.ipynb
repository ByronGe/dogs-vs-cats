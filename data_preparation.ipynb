{
 "cells": [
  {
   "cell_type": "code",
   "execution_count": null,
   "metadata": {
    "collapsed": false
   },
   "outputs": [],
   "source": [
    "# update tensorflow & keras\n",
    "\n",
    "!pip install --upgrade keras\n",
    "!pip install --upgrade tensorflow-gpu"
   ]
  },
  {
   "cell_type": "code",
   "execution_count": null,
   "metadata": {
    "collapsed": false
   },
   "outputs": [],
   "source": [
    "# install kaggle-cli for downloading dataset from kaggle\n",
    "\n",
    "!pip install kaggle-cli"
   ]
  },
  {
   "cell_type": "code",
   "execution_count": null,
   "metadata": {
    "collapsed": false
   },
   "outputs": [],
   "source": [
    "# download train.zip\n",
    "# the username & password should be changed with yours\n",
    "\n",
    "!import kaggle-cli as kg\n",
    "\n",
    "!kg download -u 'TIFOSI528' -p '***151****9975' -f 'train.zip' -c 'dogs-vs-cats-redux-kernels-edition'"
   ]
  },
  {
   "cell_type": "code",
   "execution_count": null,
   "metadata": {
    "collapsed": false
   },
   "outputs": [],
   "source": [
    "# download test.zip\n",
    "\n",
    "!import kaggle-cli as kg\n",
    "\n",
    "!kg download -u 'TIFOSI528' -p '***151****9975' -f 'test.zip' -c 'dogs-vs-cats-redux-kernels-edition'"
   ]
  },
  {
   "cell_type": "code",
   "execution_count": null,
   "metadata": {
    "collapsed": false
   },
   "outputs": [],
   "source": [
    "# unzip the train dataset\n",
    "\n",
    "!unzip train.zip"
   ]
  },
  {
   "cell_type": "code",
   "execution_count": null,
   "metadata": {
    "collapsed": false
   },
   "outputs": [],
   "source": [
    "# unzip the test dataset\n",
    "\n",
    "!unzip test.zip"
   ]
  },
  {
   "cell_type": "code",
   "execution_count": null,
   "metadata": {
    "collapsed": false
   },
   "outputs": [],
   "source": [
    "%cd /output"
   ]
  },
  {
   "cell_type": "code",
   "execution_count": null,
   "metadata": {
    "collapsed": false
   },
   "outputs": [],
   "source": [
    "%ls"
   ]
  },
  {
   "cell_type": "code",
   "execution_count": 10,
   "metadata": {
    "collapsed": true
   },
   "outputs": [],
   "source": [
    "%mkdir train_new"
   ]
  },
  {
   "cell_type": "code",
   "execution_count": 11,
   "metadata": {
    "collapsed": true
   },
   "outputs": [],
   "source": [
    "%mkdir validation_new"
   ]
  },
  {
   "cell_type": "code",
   "execution_count": null,
   "metadata": {
    "collapsed": true
   },
   "outputs": [],
   "source": [
    "%mkdir outlier"
   ]
  },
  {
   "cell_type": "code",
   "execution_count": 12,
   "metadata": {
    "collapsed": false
   },
   "outputs": [
    {
     "name": "stdout",
     "output_type": "stream",
     "text": [
      "/output/train_new\n"
     ]
    }
   ],
   "source": [
    "%cd train_new/"
   ]
  },
  {
   "cell_type": "code",
   "execution_count": 13,
   "metadata": {
    "collapsed": true
   },
   "outputs": [],
   "source": [
    "%mkdir cats "
   ]
  },
  {
   "cell_type": "code",
   "execution_count": 14,
   "metadata": {
    "collapsed": true
   },
   "outputs": [],
   "source": [
    "%mkdir dogs"
   ]
  },
  {
   "cell_type": "code",
   "execution_count": 15,
   "metadata": {
    "collapsed": false
   },
   "outputs": [
    {
     "name": "stdout",
     "output_type": "stream",
     "text": [
      "/output\n"
     ]
    }
   ],
   "source": [
    "%cd /output"
   ]
  },
  {
   "cell_type": "code",
   "execution_count": 16,
   "metadata": {
    "collapsed": false
   },
   "outputs": [
    {
     "name": "stdout",
     "output_type": "stream",
     "text": [
      "/output/validation_new\n"
     ]
    }
   ],
   "source": [
    "%cd validation_new/"
   ]
  },
  {
   "cell_type": "code",
   "execution_count": 17,
   "metadata": {
    "collapsed": true
   },
   "outputs": [],
   "source": [
    "%mkdir cats"
   ]
  },
  {
   "cell_type": "code",
   "execution_count": 18,
   "metadata": {
    "collapsed": true
   },
   "outputs": [],
   "source": [
    "%mkdir dogs"
   ]
  },
  {
   "cell_type": "code",
   "execution_count": 20,
   "metadata": {
    "collapsed": false
   },
   "outputs": [
    {
     "name": "stdout",
     "output_type": "stream",
     "text": [
      "/output\n"
     ]
    }
   ],
   "source": [
    "%cd /output"
   ]
  },
  {
   "cell_type": "code",
   "execution_count": 21,
   "metadata": {
    "collapsed": false
   },
   "outputs": [
    {
     "name": "stdout",
     "output_type": "stream",
     "text": [
      "train dataset size: 25000\n",
      "cat number in train dataset: 12500\n",
      "test dataset size: 12500\n"
     ]
    }
   ],
   "source": [
    "# calculate the file numbers in train & test dataset\n",
    "\n",
    "import os  \n",
    "\n",
    "train_files = os.listdir(\"train/\") \n",
    "train_size = len(train_files)\n",
    "\n",
    "cat_num = 0\n",
    "for i in train_files:\n",
    "    if 'cat' in i:\n",
    "        cat_num += 1\n",
    "        \n",
    "test_files = os.listdir(\"test/\") \n",
    "test_size = len(test_files)\n",
    "\n",
    "print \"train dataset size: %d\" % train_size\n",
    "print \"cat number in train dataset: %d\" % cat_num\n",
    "print \"test dataset size: %d\" % test_size"
   ]
  },
  {
   "cell_type": "code",
   "execution_count": null,
   "metadata": {
    "collapsed": true
   },
   "outputs": [],
   "source": [
    "# find the picture \"color/pixel ratio below the q01\"\n",
    "\n",
    "from keras.preprocessing.image import img_to_array, load_img\n",
    "import shutil\n",
    "import os\n",
    "import matplotlib.pyplot as plt\n",
    "\n",
    "targetnames = os.listdir('train/')\n",
    "for name in targetnames[:]:\n",
    "    im = Image.open('train/' + name)\n",
    "    x = im.histogram(mask=None)\n",
    "    count = Counter(x)\n",
    "    if float(len(count))/len(x) < q01:\n",
    "        print name\n",
    "        im = Image.open('train/'+name)\n",
    "        img = load_img('train/'+name)\n",
    "        x = img_to_array(img)\n",
    "        plt.title(name)\n",
    "        plt.imshow(img)\n",
    "        plt.show()"
   ]
  },
  {
   "cell_type": "code",
   "execution_count": null,
   "metadata": {
    "collapsed": true
   },
   "outputs": [],
   "source": [
    "from keras.preprocessing.image import img_to_array, load_img\n",
    "import shutil\n",
    "import matplotlib.pyplot as plt\n",
    "\n",
    "# pick out the outliers & low resolution pictures\n",
    "outlier_list = ['cat.10107.jpg', 'cat.10277.jpg', 'cat.10392.jpg', 'cat.10893.jpg', 'cat.11091.jpg', 'cat.11184.jpg', \n",
    "                'cat.2433.jpg', 'cat.2939.jpg', 'cat.3216.jpg', 'cat.4821.jpg', 'cat.4833.jpg', 'cat.5534.jpg', \n",
    "                'cat.6402.jpg', 'cat.6699.jpg', 'cat.7703.jpg', 'cat.7968.jpg', 'cat.8138.jpg', 'cat.8456.jpg', \n",
    "               'cat.8470.jpg', 'cat.8504.jpg', 'cat.9171.jpg', 'dog.10190.jpg', 'dog.10654.jpg', 'dog.10747.jpg',\n",
    "               'dog.11248.jpg', 'dog.11465.jpg', 'dog.11686.jpg', 'dog.1174.jpg', 'dog.12331.jpg', 'dog.1308.jpg',\n",
    "               'dog.1381.jpg', 'dog.1895.jpg', 'dog.3074.jpg', 'dog.4367.jpg', 'dog.4507.jpg', 'dog.5604.jpg',\n",
    "               'dog.630.jpg', 'dog.6685.jpg', 'dog.7772.jpg', 'dog.8450.jpg', 'dog.8736.jpg', 'dog.9188.jpg', \n",
    "               'dog.9246.jpg', 'dog.9517.jpg', 'dog.9705.jpg']\n",
    "\n",
    "# remove these pictures out of the train/ directory\n",
    "for name in outlier_list:\n",
    "    im = Image.open('train/'+name)\n",
    "    img = load_img('train/'+name)\n",
    "    x = img_to_array(img)\n",
    "    plt.title(name)\n",
    "    plt.imshow(img)\n",
    "    plt.show()\n",
    "    shutil.move('train/' + name, 'outlier/' + name)"
   ]
  },
  {
   "cell_type": "code",
   "execution_count": 22,
   "metadata": {
    "collapsed": true
   },
   "outputs": [],
   "source": [
    "# move the photo to corresponding directory: 'train_new/cats/' & 'train_new/dogs/'\n",
    "\n",
    "import os  \n",
    "import shutil\n",
    "\n",
    "targetnames = os.listdir('train/') \n",
    "for name in targetnames:  \n",
    "    if 'cat' == name[0:3]:    \n",
    "        shutil.move('train/'+name,'train_new/cats/'+name) \n",
    "    else:\n",
    "        shutil.move('train/'+name,'train_new/dogs/'+name) \n",
    "\n",
    "\n"
   ]
  },
  {
   "cell_type": "code",
   "execution_count": 23,
   "metadata": {
    "collapsed": true
   },
   "outputs": [],
   "source": [
    "# prepare validation datasets\n",
    "\n",
    "import os  \n",
    "import shutil\n",
    "import random\n",
    "\n",
    "catnames = os.listdir('train_new/cats/') \n",
    "dognames = os.listdir('train_new/dogs/') \n",
    "\n",
    "random.seed(5)\n",
    "\n",
    "randomList = random.sample(range(0, len(catnames)),2500)\n",
    "for i in randomList:\n",
    "    shutil.move('train_new/cats/' + catnames[i],'validation_new/cats/' + catnames[i])\n",
    "    \n",
    "random.seed(8)\n",
    "\n",
    "randomList = random.sample(range(0, len(dognames)),2500)\n",
    "for i in randomList:\n",
    "    shutil.move('train_new/dogs/' + dognames[i],'validation_new/dogs/' + dognames[i]) \n"
   ]
  },
  {
   "cell_type": "code",
   "execution_count": null,
   "metadata": {
    "collapsed": false
   },
   "outputs": [],
   "source": [
    "# check validation datasets\n",
    "\n",
    "import os  \n",
    "\n",
    "validation_files1 = os.listdir(\"validation_new/cats\") \n",
    "size1 = len(validation_files1)\n",
    "print \"cat number in validation datasets:\", size1\n",
    "\n",
    "validation_files2 = os.listdir(\"validation_new/dogs\") \n",
    "size2 = len(validation_files2)\n",
    "print \"dog number in validation datasets:\", size2"
   ]
  }
 ],
 "metadata": {
  "kernelspec": {
   "display_name": "Python 2",
   "language": "python",
   "name": "python2"
  },
  "language_info": {
   "codemirror_mode": {
    "name": "ipython",
    "version": 2
   },
   "file_extension": ".py",
   "mimetype": "text/x-python",
   "name": "python",
   "nbconvert_exporter": "python",
   "pygments_lexer": "ipython2",
   "version": "2.7.13"
  }
 },
 "nbformat": 4,
 "nbformat_minor": 2
}
